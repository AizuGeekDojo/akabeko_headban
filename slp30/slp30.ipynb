{
 "cells": [
  {
   "cell_type": "code",
   "execution_count": 1,
   "metadata": {
    "collapsed": false
   },
   "outputs": [],
   "source": [
    "import time\n",
    "#from datetime import datetime"
   ]
  },
  {
   "cell_type": "code",
   "execution_count": 2,
   "metadata": {
    "collapsed": false
   },
   "outputs": [],
   "source": [
    "# 30秒待つ処理を考えるところ\n",
    "# if文の中で30秒経ってなかったら下を継続\n",
    "# LEDを光らせたいので1,0を変更させてスレッドが止まらないかも監視\n",
    "# ボタンの実装は面倒なので，ここでは入力で場合分けする\n",
    "#!pip install datatime"
   ]
  },
  {
   "cell_type": "code",
   "execution_count": 8,
   "metadata": {
    "collapsed": false
   },
   "outputs": [
    {
     "name": "stdout",
     "output_type": "stream",
     "text": [
      "END\n"
     ]
    }
   ],
   "source": [
    "tmptime = 30.0\n",
    "try:\n",
    "    while True:\n",
    "        \n",
    "        mode = int(input())\n",
    "        \n",
    "        if mode == 1:                \n",
    "            # do 1 mode\n",
    "            \n",
    "            intime = time.time()\n",
    "            nowtime = intime\n",
    "            \n",
    "            while nowtime -intime < tmptime:\n",
    "                print(\"1\")\n",
    "                time.sleep(60.0/160)\n",
    "                print(\"0\")\n",
    "                time.sleep(60.0/160)\n",
    "                nowtime = time.time()\n",
    "        \n",
    "        elif mode == 2:\n",
    "            # do 2 mode \n",
    "            intime = time.time()\n",
    "            nowtime = intime\n",
    "            \n",
    "            while nowtime -intime < tmptime:\n",
    "                print(\"2\")\n",
    "                time.sleep(60.0/160)\n",
    "                print(\"0\")\n",
    "                time.sleep(60.0/160)\n",
    "                nowtime = time.time()\n",
    "            \n",
    "        elif mode == 3:\n",
    "            # do 3 mode\n",
    "            intime = time.time()\n",
    "            nowtime = intime\n",
    "            \n",
    "            while nowtime -intime < tmptime:\n",
    "                print(\"3\")\n",
    "                time.sleep(60.0/160)\n",
    "                print(\"0\")\n",
    "                time.sleep(60.0/160)\n",
    "                nowtime = time.time()\n",
    "            \n",
    "        else:\n",
    "            print(\"Illigal value!\")\n",
    "            \n",
    "        time.sleep(0.1)\n",
    "        \n",
    "except KeyboardInterrupt:\n",
    "    print(\"END\")"
   ]
  },
  {
   "cell_type": "markdown",
   "metadata": {},
   "source": []
  }
 ],
 "metadata": {
  "kernelspec": {
   "display_name": "Python 3",
   "language": "python",
   "name": "python3"
  },
  "language_info": {
   "codemirror_mode": {
    "name": "ipython",
    "version": 3
   },
   "file_extension": ".py",
   "mimetype": "text/x-python",
   "name": "python",
   "nbconvert_exporter": "python",
   "pygments_lexer": "ipython3",
   "version": "3.6.0"
  }
 },
 "nbformat": 4,
 "nbformat_minor": 2
}
